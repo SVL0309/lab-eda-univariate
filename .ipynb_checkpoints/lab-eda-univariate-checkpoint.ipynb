{
 "cells": [
  {
   "cell_type": "code",
   "execution_count": null,
   "id": "1b8ceaeb",
   "metadata": {},
   "outputs": [],
   "source": [
    "import pandas as pd\n",
    "import matplotlib.pyplot as plt\n",
    "import seaborn as sns\n",
    "import numpy as np\n",
    "\n",
    "%matplotlib inline\n",
    "\n",
    "df = pd.read_csv(r'C:\\Users\\38095\\Documents\\GitHub\\lab-eda-univariate\\amz_uk_price_prediction_dataset.csv')\n",
    "df"
   ]
  },
  {
   "cell_type": "markdown",
   "id": "e7245e83",
   "metadata": {},
   "source": [
    "\"\"\"\"Part 1: Understanding Product Categories\"\"\""
   ]
  },
  {
   "cell_type": "code",
   "execution_count": null,
   "id": "1e63b9e2",
   "metadata": {},
   "outputs": [],
   "source": [
    "df.dtypes"
   ]
  },
  {
   "cell_type": "markdown",
   "id": "fbccda00",
   "metadata": {},
   "source": [
    "1. **Frequency Tables**:\n",
    "    - Generate a frequency table for the product `category`."
   ]
  },
  {
   "cell_type": "code",
   "execution_count": null,
   "id": "810ce2a5",
   "metadata": {
    "scrolled": true
   },
   "outputs": [],
   "source": [
    "counts = df['category'].value_counts()"
   ]
  },
  {
   "cell_type": "code",
   "execution_count": null,
   "id": "d2f2d514",
   "metadata": {
    "scrolled": true
   },
   "outputs": [],
   "source": [
    "frequency_table = df['category'].value_counts()\n",
    "frequency_table "
   ]
  },
  {
   "cell_type": "markdown",
   "id": "5e7be1bd",
   "metadata": {},
   "source": [
    " - Which are the top 5 most listed product categories?"
   ]
  },
  {
   "cell_type": "code",
   "execution_count": null,
   "id": "3a4147c2",
   "metadata": {},
   "outputs": [],
   "source": [
    "counts.head(5)\n",
    "most_listed = df['category'].value_counts().head(5)\n",
    "most_listed"
   ]
  },
  {
   "cell_type": "markdown",
   "id": "e91ddd11",
   "metadata": {},
   "source": [
    "2. **Visualizations**:\n",
    "    - Display the distribution of products across different categories using a bar chart.\n",
    "    *If you face problems understanding the chart, do it for a subset of top categories.*\n",
    "    - For a subset of top categories, visualize their proportions using a pie chart.\n",
    "    Does any category dominate the listings?"
   ]
  },
  {
   "cell_type": "code",
   "execution_count": null,
   "id": "ff7af1a7",
   "metadata": {},
   "outputs": [],
   "source": [
    "sns.barplot(x=most_listed.index, y=most_listed.values, palette=\"Set3\")\n",
    "plt.xticks(rotation = 45)"
   ]
  },
  {
   "cell_type": "code",
   "execution_count": null,
   "id": "a0dbb1e1",
   "metadata": {},
   "outputs": [],
   "source": [
    "df['category'].value_counts().head(5).plot.pie(autopct='%1.1f%%', startangle=0, colors=sns.color_palette(\"Set3\"))"
   ]
  },
  {
   "cell_type": "markdown",
   "id": "33ca8677",
   "metadata": {},
   "source": [
    "### Part 2: Delving into Product Pricing\n",
    "\n",
    "**Business Question**: How are products priced on Amazon UK, and are there specific price points or ranges that are more common?"
   ]
  },
  {
   "cell_type": "markdown",
   "id": "7448329d",
   "metadata": {},
   "source": [
    "1. **Measures of Centrality**:\n",
    "    - Calculate the mean, median, and mode for the `price` of products.\n",
    "    - What's the average price point of products listed? How does this compare with the most common price point (mode)?"
   ]
  },
  {
   "cell_type": "code",
   "execution_count": null,
   "id": "f6d48360",
   "metadata": {},
   "outputs": [],
   "source": [
    "df['price'].mean()"
   ]
  },
  {
   "cell_type": "code",
   "execution_count": null,
   "id": "1cd4b111",
   "metadata": {},
   "outputs": [],
   "source": [
    "df['price'].median()"
   ]
  },
  {
   "cell_type": "code",
   "execution_count": null,
   "id": "615e5d9a",
   "metadata": {},
   "outputs": [],
   "source": [
    "df['price'].mode()"
   ]
  },
  {
   "cell_type": "markdown",
   "id": "396ab088",
   "metadata": {},
   "source": [
    "2. **Measures of Dispersion**:\n",
    "    - Determine the variance, standard deviation, range, and interquartile range for product `price`.\n",
    "    - How varied are the product prices? Are there any indicators of a significant spread in prices?"
   ]
  },
  {
   "cell_type": "code",
   "execution_count": null,
   "id": "44f79baa",
   "metadata": {},
   "outputs": [],
   "source": [
    "df['price'].describe()"
   ]
  },
  {
   "cell_type": "code",
   "execution_count": null,
   "id": "937e4f38",
   "metadata": {},
   "outputs": [],
   "source": [
    "variance_price = df['price'].var()\n",
    "std_dev_price = df['price'].std()\n",
    "min_price = df['price'].min()\n",
    "max_price = df['price'].max()\n",
    "range_price = max_price - min_price\n",
    "quantiles_price = df['price'].quantile([0.25, 0.5, 0.75])\n",
    "\n",
    "variance_price, std_dev_price, min_price, max_price, range_price, quantiles_price"
   ]
  },
  {
   "cell_type": "markdown",
   "id": "f2e27bdc",
   "metadata": {},
   "source": [
    "3. **Visualizations**:\n",
    "  - Is there a specific price range where most products fall?\n",
    "    Plot a histogram to visualize the distribution of product prices.\n",
    "*If its hard to read these diagrams, think why this is, and explain how it could be solved.*."
   ]
  },
  {
   "cell_type": "code",
   "execution_count": null,
   "id": "ab4fabd8",
   "metadata": {},
   "outputs": [],
   "source": [
    "plt.figure(figsize=(8, 10))\n",
    "plt.bar(quantiles_price.index, quantiles_price.values, color='skyblue')\n",
    "plt.title('Quantiles of Price')\n",
    "plt.xlabel('Quantile')\n",
    "plt.ylabel('Price')\n",
    "plt.xticks(quantiles_price.index, ['25%', '50%', '75%'])\n",
    "plt.show()"
   ]
  },
  {
   "cell_type": "code",
   "execution_count": null,
   "id": "3f18fa17",
   "metadata": {},
   "outputs": [],
   "source": [
    "df['price'].hist()"
   ]
  },
  {
   "cell_type": "code",
   "execution_count": null,
   "id": "2ec23368",
   "metadata": {},
   "outputs": [],
   "source": [
    "plt.figure(figsize=(15,5))\n",
    "plt.hist(df['price'], bins=500, color='skyblue', edgecolor='black')\n",
    "plt.title('Distribution of Product Prices')\n",
    "plt.xlabel('Price')\n",
    "plt.ylabel('Frequency')\n",
    "plt.grid(True)\n",
    "plt.show()"
   ]
  },
  {
   "cell_type": "markdown",
   "id": "63ac1646",
   "metadata": {},
   "source": [
    " - Are there products that are priced significantly higher than the rest? Use a box plot to showcase the spread and potential outliers in product pricing."
   ]
  },
  {
   "cell_type": "code",
   "execution_count": null,
   "id": "e30b1ac8",
   "metadata": {},
   "outputs": [],
   "source": [
    "sns.boxplot(data = df['price'], color=\"lightblue\")"
   ]
  },
  {
   "cell_type": "markdown",
   "id": "36410d79",
   "metadata": {},
   "source": [
    "### Part 3: Unpacking Product Ratings\n",
    "\n",
    "**Business Question**: How do customers rate products on Amazon UK, and are there any patterns or tendencies in the ratings?"
   ]
  },
  {
   "cell_type": "markdown",
   "id": "5de83c0f",
   "metadata": {},
   "source": [
    "1. **Measures of Centrality**:\n",
    "    - Calculate the mean, median, and mode for the `rating` of products.\n",
    "    - How do customers generally rate products? Is there a common trend?"
   ]
  },
  {
   "cell_type": "code",
   "execution_count": null,
   "id": "b089a618",
   "metadata": {},
   "outputs": [],
   "source": [
    "df.stars.median()"
   ]
  },
  {
   "cell_type": "code",
   "execution_count": null,
   "id": "98db3ad7",
   "metadata": {},
   "outputs": [],
   "source": [
    "df.stars.mean()"
   ]
  },
  {
   "cell_type": "code",
   "execution_count": null,
   "id": "39bb99ed",
   "metadata": {},
   "outputs": [],
   "source": [
    "df.stars.mode()"
   ]
  },
  {
   "cell_type": "markdown",
   "id": "c87907df",
   "metadata": {},
   "source": [
    "2. **Measures of Dispersion**:\n",
    "    - Determine the variance, standard deviation, and interquartile range for product `rating`.\n",
    "    - Are the ratings consistent, or is there a wide variation in customer feedback?"
   ]
  },
  {
   "cell_type": "code",
   "execution_count": null,
   "id": "8c0988d3",
   "metadata": {},
   "outputs": [],
   "source": [
    "df['stars'].describe()"
   ]
  },
  {
   "cell_type": "markdown",
   "id": "12af68db",
   "metadata": {},
   "source": [
    "3. **Shape of the Distribution**:\n",
    "    - Calculate the skewness and kurtosis for the `rating` column. \n",
    "    - Are the ratings normally distributed, or do they lean towards higher or lower values?"
   ]
  },
  {
   "cell_type": "code",
   "execution_count": null,
   "id": "14057ed6",
   "metadata": {},
   "outputs": [],
   "source": [
    "skewness_rating = df['stars'].skew()\n",
    "kurtosis_rating = df['stars'].kurtosis()\n",
    "\n",
    "skewness_rating, kurtosis_rating"
   ]
  },
  {
   "cell_type": "markdown",
   "id": "12ef1225",
   "metadata": {},
   "source": [
    "**Visualizations**:\n",
    "    - Plot a histogram to visualize the distribution of product ratings. Is there a specific rating that is more common?"
   ]
  },
  {
   "cell_type": "code",
   "execution_count": null,
   "id": "6e4c2289",
   "metadata": {},
   "outputs": [],
   "source": [
    "sns.histplot(df['stars'], kde=True, bins=30, color=\"salmon\")"
   ]
  },
  {
   "cell_type": "code",
   "execution_count": null,
   "id": "c616d0c5",
   "metadata": {},
   "outputs": [],
   "source": [
    "df"
   ]
  },
  {
   "cell_type": "code",
   "execution_count": null,
   "id": "b478e536",
   "metadata": {},
   "outputs": [],
   "source": []
  }
 ],
 "metadata": {
  "kernelspec": {
   "display_name": "Python 3 (ipykernel)",
   "language": "python",
   "name": "python3"
  },
  "language_info": {
   "codemirror_mode": {
    "name": "ipython",
    "version": 3
   },
   "file_extension": ".py",
   "mimetype": "text/x-python",
   "name": "python",
   "nbconvert_exporter": "python",
   "pygments_lexer": "ipython3",
   "version": "3.11.5"
  }
 },
 "nbformat": 4,
 "nbformat_minor": 5
}
